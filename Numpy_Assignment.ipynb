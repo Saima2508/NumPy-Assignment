{
 "cells": [
  {
   "cell_type": "code",
   "execution_count": 104,
   "id": "3b04492d-0151-4d4c-877b-a98dfaed267b",
   "metadata": {},
   "outputs": [],
   "source": [
    "import numpy as np"
   ]
  },
  {
   "cell_type": "code",
   "execution_count": 106,
   "id": "d2a28561-cda6-4288-8058-d485e23828f3",
   "metadata": {},
   "outputs": [
    {
     "data": {
      "text/plain": [
       "dtype('int32')"
      ]
     },
     "execution_count": 106,
     "metadata": {},
     "output_type": "execute_result"
    }
   ],
   "source": [
    "# 1.Create a NumPy array 'arr' of integers from 0 to 5 and print its data type.\n",
    "a = np.arange(6)\n",
    "a.dtype"
   ]
  },
  {
   "cell_type": "code",
   "execution_count": 108,
   "id": "9b169298-ed83-4cd7-bd14-e6c60cb97175",
   "metadata": {},
   "outputs": [
    {
     "data": {
      "text/plain": [
       "dtype('float64')"
      ]
     },
     "execution_count": 108,
     "metadata": {},
     "output_type": "execute_result"
    }
   ],
   "source": [
    "#2.\tGiven a NumPy array 'arr', check if its data type is float64. \n",
    "arr = np.array([1.5, 2.6, 3.7])\n",
    "arr.dtype"
   ]
  },
  {
   "cell_type": "code",
   "execution_count": 112,
   "id": "d0315875-0cfb-4e82-8ffe-ee0d3dcc915f",
   "metadata": {},
   "outputs": [
    {
     "data": {
      "text/plain": [
       "array([3.+4.j, 2.+3.j, 4.+5.j])"
      ]
     },
     "execution_count": 112,
     "metadata": {},
     "output_type": "execute_result"
    }
   ],
   "source": [
    "#3.\tCreate a NumPy array 'arr' with a data type of complex128 containing three complex numbers.\n",
    "arr = np.array([3+4j, 2+3j, 4+5j] , dtype = np.complex128)\n",
    "arr"
   ]
  },
  {
   "cell_type": "code",
   "execution_count": 116,
   "id": "537113fd-5aae-4ed5-a4a0-64aaccc91e87",
   "metadata": {},
   "outputs": [
    {
     "data": {
      "text/plain": [
       "array([1., 2., 3., 4.], dtype=float32)"
      ]
     },
     "execution_count": 116,
     "metadata": {},
     "output_type": "execute_result"
    }
   ],
   "source": [
    "#4. Convert an existing NumPy array 'arr' of integers to float32 data type.\n",
    "arr = np.array([1,2,3,4])\n",
    "arr = arr.astype(np.float32)\n",
    "arr"
   ]
  },
  {
   "cell_type": "code",
   "execution_count": 118,
   "id": "4d93ec62-e193-4afe-af17-e4e630fbef05",
   "metadata": {},
   "outputs": [
    {
     "data": {
      "text/plain": [
       "array([1., 2., 3., 4.], dtype=float32)"
      ]
     },
     "execution_count": 118,
     "metadata": {},
     "output_type": "execute_result"
    }
   ],
   "source": [
    "# 5.Given a NumPy array 'arr' with float64 data type, convert it to float32 to reduce decimal precision.\n",
    "arr = np.array([1,2,3,4] , dtype = np.float64)\n",
    "arr = arr.astype(np.float32)\n",
    "arr"
   ]
  },
  {
   "cell_type": "code",
   "execution_count": 120,
   "id": "58caf6e8-f322-4543-b58f-2ccc2541597c",
   "metadata": {},
   "outputs": [
    {
     "data": {
      "text/plain": [
       "((2, 3), 6, dtype('int32'))"
      ]
     },
     "execution_count": 120,
     "metadata": {},
     "output_type": "execute_result"
    }
   ],
   "source": [
    "#6.Write a function array_attributes that takes a NumPy array as input and returns its shape, size, and data type.\n",
    "def array_attributes(arr):\n",
    "    return arr.shape , arr.size , arr.dtype   \n",
    "arr = np.array([[1,2,3],[4,5,6]])\n",
    "array_attributes(arr)"
   ]
  },
  {
   "cell_type": "code",
   "execution_count": 122,
   "id": "1609a7f4-2f78-4ebf-8a59-3cce4b088d23",
   "metadata": {},
   "outputs": [
    {
     "data": {
      "text/plain": [
       "1"
      ]
     },
     "execution_count": 122,
     "metadata": {},
     "output_type": "execute_result"
    }
   ],
   "source": [
    "#7.Create a function array_dimension that takes a NumPy array as input and returns its dimensionality. \n",
    "def array_dimension(arr):\n",
    "    return arr.ndim\n",
    "\n",
    "arr = np.array([1,2,3,4])\n",
    "array_dimension(arr)"
   ]
  },
  {
   "cell_type": "code",
   "execution_count": 124,
   "id": "a83c91ef-0aba-423e-bcec-b3227474859e",
   "metadata": {},
   "outputs": [
    {
     "data": {
      "text/plain": [
       "(4, 16)"
      ]
     },
     "execution_count": 124,
     "metadata": {},
     "output_type": "execute_result"
    }
   ],
   "source": [
    "#8.Design a function item_size_info that takes a NumPy array as input and returns the item size and the total size in bytes\n",
    "def item_size_info(arr):\n",
    "    return arr.size , arr.nbytes\n",
    "\n",
    "arr = np.array([1,2,3,4])\n",
    "item_size_info(arr)"
   ]
  },
  {
   "cell_type": "code",
   "execution_count": 126,
   "id": "bd682665-a449-4fa3-a9d7-694c079e5291",
   "metadata": {},
   "outputs": [
    {
     "data": {
      "text/plain": [
       "(12, 4)"
      ]
     },
     "execution_count": 126,
     "metadata": {},
     "output_type": "execute_result"
    }
   ],
   "source": [
    "#9.Create a function array_strides that takes a NumPy array as input and returns the strides of the array.\n",
    "def array_strides(arr):\n",
    "    return arr.strides\n",
    "\n",
    "arr = np.array([[1,2,3],[4,5,6]])\n",
    "array_strides(arr)"
   ]
  },
  {
   "cell_type": "code",
   "execution_count": 128,
   "id": "bae6f42e-5a60-47ad-91c8-59c1d99f1623",
   "metadata": {},
   "outputs": [
    {
     "data": {
      "text/plain": [
       "((2, 3), (12, 4))"
      ]
     },
     "execution_count": 128,
     "metadata": {},
     "output_type": "execute_result"
    }
   ],
   "source": [
    "#10.Design a function shape_stride_relationship that takes a NumPy array as input and returns the shape and strides of the array.\n",
    "def shape_stride_relationship(arr):\n",
    "    return arr.shape, arr.strides\n",
    "\n",
    "arr = np.array([[1,2,3],[4,5,6]])\n",
    "shape_stride_relationship(arr)"
   ]
  },
  {
   "cell_type": "code",
   "execution_count": 196,
   "id": "a2577209-e52c-435e-b4ef-48546d123b0a",
   "metadata": {},
   "outputs": [],
   "source": [
    "#11.Create a function `create_zeros_array` that takes an integer `n` as input and returns a NumPy array of zeros with `n` elements.\n",
    "def create_zeros_array(arr):\n",
    "    return np.zeros(arr)\n",
    "\n",
    "arr = 5\n",
    "create_zeros_array(5)"
   ]
  },
  {
   "cell_type": "code",
   "execution_count": 130,
   "id": "d90ef5bc-5dcf-41af-8a54-dd6c7783ee81",
   "metadata": {},
   "outputs": [
    {
     "data": {
      "text/plain": [
       "array([[1., 1., 1.],\n",
       "       [1., 1., 1.]])"
      ]
     },
     "execution_count": 130,
     "metadata": {},
     "output_type": "execute_result"
    }
   ],
   "source": [
    "#12.Write a function `create_ones_matrix` that takes integers `rows` and `cols` as inputs and generates a 2D NumPy array filled with \n",
    "#ones of size `rows x cols`.\n",
    "def create_ones_array(arr):\n",
    "    return np.ones(arr)\n",
    "create_ones_array([2,3])"
   ]
  },
  {
   "cell_type": "code",
   "execution_count": 132,
   "id": "00d379e4-7c36-4c5e-b373-6a00510ebafc",
   "metadata": {},
   "outputs": [
    {
     "data": {
      "text/plain": [
       "array([1, 3, 5, 7, 9])"
      ]
     },
     "execution_count": 132,
     "metadata": {},
     "output_type": "execute_result"
    }
   ],
   "source": [
    "#13.Write a function `generate_range_array` that takes three integers start, stop, and step as arguments \n",
    "#and creates a NumPy array with a range starting from `start`, ending at stop (exclusive), and with the specified `step`.\n",
    "def generate_range_array(start, stop, step):\n",
    "    arr = np.arange(start, stop, step)\n",
    "    return arr\n",
    "arr = generate_range_array(1,10,2)\n",
    "arr"
   ]
  },
  {
   "cell_type": "code",
   "execution_count": 134,
   "id": "f108d7c5-f716-4086-bcbd-7988680d28e8",
   "metadata": {},
   "outputs": [
    {
     "data": {
      "text/plain": [
       "array([ 1.  ,  3.25,  5.5 ,  7.75, 10.  ])"
      ]
     },
     "execution_count": 134,
     "metadata": {},
     "output_type": "execute_result"
    }
   ],
   "source": [
    "#14.Design a function `generate_linear_space` that takes two floats `start`, `stop`, and an integer `num` as arguments and \n",
    "#generates a NumPy array with num equally spaced values between `start` and `stop` (inclusive).\n",
    "def generate_linear_space(start, stop, num):\n",
    "    arr = np.linspace(start, stop, num)\n",
    "    return arr\n",
    "\n",
    "arr = generate_linear_space(1.0, 10.0, 5)\n",
    "arr"
   ]
  },
  {
   "cell_type": "code",
   "execution_count": 136,
   "id": "42045a54-ac80-41d8-a0f8-0028c78b9ded",
   "metadata": {},
   "outputs": [
    {
     "data": {
      "text/plain": [
       "array([[1., 0., 0.],\n",
       "       [0., 1., 0.],\n",
       "       [0., 0., 1.]])"
      ]
     },
     "execution_count": 136,
     "metadata": {},
     "output_type": "execute_result"
    }
   ],
   "source": [
    "#15.Create a function `create_identity_matrix` that takes an integer `n` as input and generates a square identity matrix of size `n x n` using `numpy.eye`.\n",
    "def create_identity_matrix(n):\n",
    "    arr = np.eye(n)\n",
    "\n",
    "arr = np.eye(3)\n",
    "arr"
   ]
  },
  {
   "cell_type": "code",
   "execution_count": 138,
   "id": "3108992e-e2e0-4eca-844e-acf8511caf42",
   "metadata": {},
   "outputs": [
    {
     "data": {
      "text/plain": [
       "array([1, 2, 3, 4])"
      ]
     },
     "execution_count": 138,
     "metadata": {},
     "output_type": "execute_result"
    }
   ],
   "source": [
    "#16.Write a function that takes a Python list and converts it into a NumPy array.\n",
    "def list_into_array(l):\n",
    "    return np.array(l)\n",
    "\n",
    "list_into_array([1,2,3,4])"
   ]
  },
  {
   "cell_type": "code",
   "execution_count": 140,
   "id": "cad59fa1-e6f8-41d8-8002-5432cbb6d7f4",
   "metadata": {},
   "outputs": [
    {
     "data": {
      "text/plain": [
       "array([5, 6, 9, 8])"
      ]
     },
     "execution_count": 140,
     "metadata": {},
     "output_type": "execute_result"
    }
   ],
   "source": [
    "#17.Create a NumPy array and demonstrate the use of `numpy.view` to create a new array object with the same data.\n",
    "original_arr = np.array([5,6,7,8])\n",
    "view_arr = original_arr.view()\n",
    "view_arr[2] = 9\n",
    "original_arr"
   ]
  },
  {
   "cell_type": "code",
   "execution_count": 142,
   "id": "c60f60b4-56bb-4cd1-906e-f302a7cc9037",
   "metadata": {},
   "outputs": [
    {
     "data": {
      "text/plain": [
       "array([[1, 2],\n",
       "       [4, 5],\n",
       "       [7, 8],\n",
       "       [9, 0]])"
      ]
     },
     "execution_count": 142,
     "metadata": {},
     "output_type": "execute_result"
    }
   ],
   "source": [
    "#18.Write a function that takes two NumPy arrays and concatenates them along a specified axis.\n",
    "def concatenate_arr(arr1,arr2):\n",
    "    return np.concatenate((arr1, arr2), axis = 0)\n",
    "\n",
    "arr1 = np.array([[1,2], [4,5]])\n",
    "arr2 = np.array([[7,8], [9,0]])\n",
    "concatenate_arr(arr1,arr2)"
   ]
  },
  {
   "cell_type": "code",
   "execution_count": 146,
   "id": "f2665927-99c0-41de-967c-949a6c840467",
   "metadata": {},
   "outputs": [
    {
     "data": {
      "text/plain": [
       "array([[1, 2, 3, 7, 8],\n",
       "       [4, 5, 6, 9, 0]])"
      ]
     },
     "execution_count": 146,
     "metadata": {},
     "output_type": "execute_result"
    }
   ],
   "source": [
    "#19.Create two NumPy arrays with different shapes and concatenate them horizontally using `numpy. concatenate`.\n",
    "def concatenate_arr(arr1,arr2):\n",
    "    return np.concatenate((arr1, arr2), axis = 1)\n",
    "\n",
    "arr1 = np.array([[1,2,3], [4,5,6]])\n",
    "arr2 = np.array([[7,8], [9,0]])\n",
    "concatenate_arr(arr1,arr2)"
   ]
  },
  {
   "cell_type": "code",
   "execution_count": 148,
   "id": "a15931b9-36c5-4537-bb23-48003f6cc30c",
   "metadata": {},
   "outputs": [
    {
     "data": {
      "text/plain": [
       "array([[1, 2, 3],\n",
       "       [4, 5, 6]])"
      ]
     },
     "execution_count": 148,
     "metadata": {},
     "output_type": "execute_result"
    }
   ],
   "source": [
    "#20.Write a function that vertically stacks multiple NumPy arrays given as a list.\n",
    "def vertical_stack(arrays):\n",
    "    return np.vstack(arrays)\n",
    "\n",
    "arr1 = np.array([1,2,3])\n",
    "arr2 = np.array([4,5,6])\n",
    "vertical_stack([arr1,arr2])"
   ]
  },
  {
   "cell_type": "code",
   "execution_count": 150,
   "id": "47e61ef1-3078-40ed-9df7-27d50cad4379",
   "metadata": {},
   "outputs": [
    {
     "data": {
      "text/plain": [
       "array([1, 3, 5, 7, 9])"
      ]
     },
     "execution_count": 150,
     "metadata": {},
     "output_type": "execute_result"
    }
   ],
   "source": [
    "#21.Write a Python function using NumPy to create an array of integers within a specified range (inclusive) with a given step size.\n",
    "def generate_range_array(start, stop, step):\n",
    "    \t\tarr = np.arange(start, stop, step)\n",
    "    \t\treturn arr\n",
    "\n",
    "generate_range_array(1,10,2)"
   ]
  },
  {
   "cell_type": "code",
   "execution_count": 152,
   "id": "cdb4cdd3-117b-4e62-8392-9154f9739e21",
   "metadata": {},
   "outputs": [
    {
     "data": {
      "text/plain": [
       "array([0.        , 0.11111111, 0.22222222, 0.33333333, 0.44444444,\n",
       "       0.55555556, 0.66666667, 0.77777778, 0.88888889, 1.        ])"
      ]
     },
     "execution_count": 152,
     "metadata": {},
     "output_type": "execute_result"
    }
   ],
   "source": [
    "#22.Write a Python function using NumPy to generate an array of 10 equally spaced values between 0 and 1 (inclusive).\n",
    "def array_space(arr):\n",
    "    arr = np.linspace(0,1,10)\n",
    "    return arr\n",
    "\n",
    "array_space(arr)"
   ]
  },
  {
   "cell_type": "code",
   "execution_count": 154,
   "id": "cfcc6f36-ffe1-4248-8195-c3e8d9355b30",
   "metadata": {},
   "outputs": [
    {
     "name": "stderr",
     "output_type": "stream",
     "text": [
      "C:\\Anaconda\\Lib\\site-packages\\numpy\\core\\function_base.py:298: RuntimeWarning: overflow encountered in power\n",
      "  return _nx.power(base, y)\n"
     ]
    },
    {
     "data": {
      "text/plain": [
       "array([1.00000000e+001, 5.62341325e+250,             inf,             inf,\n",
       "                   inf])"
      ]
     },
     "execution_count": 154,
     "metadata": {},
     "output_type": "execute_result"
    }
   ],
   "source": [
    "#23.Write a Python function using NumPy to create an array of 5 logarithmically spaced values between 1 and 1000 (inclusive).\n",
    "def array_space(arr):\n",
    "    arr = np.logspace(1,1000,5)\n",
    "    return arr\n",
    "\n",
    "array_space(arr)"
   ]
  },
  {
   "cell_type": "code",
   "execution_count": 156,
   "id": "7867bc61-f44b-4119-a86a-c3d44fd3f6fd",
   "metadata": {},
   "outputs": [
    {
     "data": {
      "text/html": [
       "<div>\n",
       "<style scoped>\n",
       "    .dataframe tbody tr th:only-of-type {\n",
       "        vertical-align: middle;\n",
       "    }\n",
       "\n",
       "    .dataframe tbody tr th {\n",
       "        vertical-align: top;\n",
       "    }\n",
       "\n",
       "    .dataframe thead th {\n",
       "        text-align: right;\n",
       "    }\n",
       "</style>\n",
       "<table border=\"1\" class=\"dataframe\">\n",
       "  <thead>\n",
       "    <tr style=\"text-align: right;\">\n",
       "      <th></th>\n",
       "      <th>0</th>\n",
       "      <th>1</th>\n",
       "      <th>2</th>\n",
       "    </tr>\n",
       "  </thead>\n",
       "  <tbody>\n",
       "    <tr>\n",
       "      <th>0</th>\n",
       "      <td>74</td>\n",
       "      <td>22</td>\n",
       "      <td>1</td>\n",
       "    </tr>\n",
       "    <tr>\n",
       "      <th>1</th>\n",
       "      <td>7</td>\n",
       "      <td>58</td>\n",
       "      <td>10</td>\n",
       "    </tr>\n",
       "    <tr>\n",
       "      <th>2</th>\n",
       "      <td>42</td>\n",
       "      <td>34</td>\n",
       "      <td>31</td>\n",
       "    </tr>\n",
       "    <tr>\n",
       "      <th>3</th>\n",
       "      <td>95</td>\n",
       "      <td>66</td>\n",
       "      <td>74</td>\n",
       "    </tr>\n",
       "    <tr>\n",
       "      <th>4</th>\n",
       "      <td>51</td>\n",
       "      <td>64</td>\n",
       "      <td>82</td>\n",
       "    </tr>\n",
       "  </tbody>\n",
       "</table>\n",
       "</div>"
      ],
      "text/plain": [
       "    0   1   2\n",
       "0  74  22   1\n",
       "1   7  58  10\n",
       "2  42  34  31\n",
       "3  95  66  74\n",
       "4  51  64  82"
      ]
     },
     "execution_count": 156,
     "metadata": {},
     "output_type": "execute_result"
    }
   ],
   "source": [
    "#24.Create a Pandas DataFrame using a NumPy array that contains 5 rows and 3 columns, where the values are random integers between 1 and 100.\n",
    "import pandas as pd\n",
    "arr = np.random.randint(1,101, size =(5,3))\n",
    "pd.DataFrame(arr)"
   ]
  },
  {
   "cell_type": "code",
   "execution_count": 158,
   "id": "ba11ae2b-8d52-4de1-900c-a2cd30f50194",
   "metadata": {},
   "outputs": [
    {
     "data": {
      "text/html": [
       "<div>\n",
       "<style scoped>\n",
       "    .dataframe tbody tr th:only-of-type {\n",
       "        vertical-align: middle;\n",
       "    }\n",
       "\n",
       "    .dataframe tbody tr th {\n",
       "        vertical-align: top;\n",
       "    }\n",
       "\n",
       "    .dataframe thead th {\n",
       "        text-align: right;\n",
       "    }\n",
       "</style>\n",
       "<table border=\"1\" class=\"dataframe\">\n",
       "  <thead>\n",
       "    <tr style=\"text-align: right;\">\n",
       "      <th></th>\n",
       "      <th>A</th>\n",
       "      <th>B</th>\n",
       "    </tr>\n",
       "  </thead>\n",
       "  <tbody>\n",
       "    <tr>\n",
       "      <th>0</th>\n",
       "      <td>10</td>\n",
       "      <td>3</td>\n",
       "    </tr>\n",
       "    <tr>\n",
       "      <th>1</th>\n",
       "      <td>0</td>\n",
       "      <td>5</td>\n",
       "    </tr>\n",
       "    <tr>\n",
       "      <th>2</th>\n",
       "      <td>15</td>\n",
       "      <td>-8</td>\n",
       "    </tr>\n",
       "    <tr>\n",
       "      <th>3</th>\n",
       "      <td>0</td>\n",
       "      <td>-1</td>\n",
       "    </tr>\n",
       "  </tbody>\n",
       "</table>\n",
       "</div>"
      ],
      "text/plain": [
       "    A  B\n",
       "0  10  3\n",
       "1   0  5\n",
       "2  15 -8\n",
       "3   0 -1"
      ]
     },
     "execution_count": 158,
     "metadata": {},
     "output_type": "execute_result"
    }
   ],
   "source": [
    "#25.Write a function that takes a Pandas DataFrame and replaces all negative values in a specific column with zeros. \n",
    "#Use NumPy operations within the Pandas DataFrame.\n",
    "\n",
    "def replace_values(df,column_name):\n",
    "    df[column_name] = np.where(df[column_name] < 0, 0, df[column_name])\n",
    "    return df\n",
    "data = {\n",
    "   \t\t 'A': [10, -5, 15, -2],\n",
    "    \t\t 'B': [3, 5, -8, -1]\n",
    "}\n",
    "df = pd.DataFrame(data)\n",
    "replace_values(df,'A')"
   ]
  },
  {
   "cell_type": "code",
   "execution_count": 160,
   "id": "19c69a27-d337-464c-9ede-7095aeadde42",
   "metadata": {},
   "outputs": [
    {
     "data": {
      "text/plain": [
       "40"
      ]
     },
     "execution_count": 160,
     "metadata": {},
     "output_type": "execute_result"
    }
   ],
   "source": [
    "#26.Access the 3rd element from the given NumPy array. \n",
    "arr = np.array([10, 20, 30, 40, 50])\n",
    "arr[3]"
   ]
  },
  {
   "cell_type": "code",
   "execution_count": 162,
   "id": "e148a9a4-f168-4536-9e12-5064c60bac25",
   "metadata": {},
   "outputs": [
    {
     "data": {
      "text/plain": [
       "6"
      ]
     },
     "execution_count": 162,
     "metadata": {},
     "output_type": "execute_result"
    }
   ],
   "source": [
    "#27.Retrieve the element at index (1, 2) from the 2D NumPy array. \n",
    "arr_2d = np.array ([[1, 2, 3],\n",
    "                     [4, 5, 6],\n",
    "         \t\t     [7, 8, 9]])\n",
    "arr_2d[1][2]"
   ]
  },
  {
   "cell_type": "code",
   "execution_count": 164,
   "id": "9671d664-9a41-46f0-a556-a9336281d72c",
   "metadata": {},
   "outputs": [
    {
     "data": {
      "text/plain": [
       "array([ 8, 10,  7])"
      ]
     },
     "execution_count": 164,
     "metadata": {},
     "output_type": "execute_result"
    }
   ],
   "source": [
    "#28.Using boolean indexing, extract elements greater than 5 from the given NumPy array. \n",
    "arr = np.array([3, 8, 2, 10, 5, 7])\t\n",
    "arr[arr > 5]"
   ]
  },
  {
   "cell_type": "code",
   "execution_count": 166,
   "id": "df2c808a-2a87-4a62-aacc-3b18ac489093",
   "metadata": {},
   "outputs": [
    {
     "data": {
      "text/plain": [
       "array([3, 4, 5, 6])"
      ]
     },
     "execution_count": 166,
     "metadata": {},
     "output_type": "execute_result"
    }
   ],
   "source": [
    "#29.Perform basic slicing to extract elements from index 2 to 5 (inclusive) from the given NumPy array. \n",
    "arr = np.array([1, 2, 3, 4, 5, 6, 7, 8, 9])\n",
    "arr[2:6]"
   ]
  },
  {
   "cell_type": "code",
   "execution_count": 168,
   "id": "8390c0b7-3817-4755-bb00-0239a5cec974",
   "metadata": {},
   "outputs": [
    {
     "data": {
      "text/plain": [
       "array([[2, 3],\n",
       "       [5, 6]])"
      ]
     },
     "execution_count": 168,
     "metadata": {},
     "output_type": "execute_result"
    }
   ],
   "source": [
    "#30.Slice the 2D NumPy array to extract the sub-array. `[[2, 3], [5, 6]]` from the given array. \n",
    "arr_2d = np.array([[1, 2, 3],\n",
    "                   [4, 5, 6],\n",
    "         \t\t   [7, 8, 9]])\n",
    "arr_2d[0:2, [1,2]]"
   ]
  },
  {
   "cell_type": "code",
   "execution_count": 170,
   "id": "6406d6cb-c886-42d3-8e85-91d2e411b2b5",
   "metadata": {},
   "outputs": [
    {
     "data": {
      "text/plain": [
       "array([20, 60, 70])"
      ]
     },
     "execution_count": 170,
     "metadata": {},
     "output_type": "execute_result"
    }
   ],
   "source": [
    "#31.Write a NumPy function to extract elements in specific order from a given 2D array based on indices provided in another array.\n",
    "def extract_elements(array, indices):\n",
    "    extracted_elements = array[indices[:, 0], indices[:, 1]]\n",
    "    return extracted_elements\n",
    "\n",
    "array = np.array([[10, 20, 30], \n",
    "                  [40, 50, 60], \n",
    "                  [70, 80, 90]])\n",
    "indices = np.array([[0, 1],  \n",
    "                    [1, 2],  \n",
    "                    [2, 0]])\n",
    "extract_elements(array, indices)"
   ]
  },
  {
   "cell_type": "code",
   "execution_count": 172,
   "id": "c942a0eb-ea3a-4784-a0a7-3e4891b93d53",
   "metadata": {},
   "outputs": [
    {
     "data": {
      "text/plain": [
       "array([7, 8, 9])"
      ]
     },
     "execution_count": 172,
     "metadata": {},
     "output_type": "execute_result"
    }
   ],
   "source": [
    "#32.Create a NumPy function that filters elements greater than a threshold from a given 1D array using boolean indexing.\n",
    "def greater_than_threshold (arr,threshold):\n",
    "    new_arr = arr[arr > threshold]\n",
    "    return new_arr\n",
    "\n",
    "arr = np.array([1,7,8,5,9])\n",
    "threshold = 6\n",
    "greater_than_threshold(arr,threshold)"
   ]
  },
  {
   "cell_type": "code",
   "execution_count": 174,
   "id": "55d84807-5179-4497-a13f-2d682a33d8a7",
   "metadata": {},
   "outputs": [
    {
     "data": {
      "text/plain": [
       "array([60, 85, 19])"
      ]
     },
     "execution_count": 174,
     "metadata": {},
     "output_type": "execute_result"
    }
   ],
   "source": [
    "#33.Develop a NumPy function that extracts specific elements from a 3D array using indices provided in three separate arrays for each dimension.\n",
    "def extract_elements_3d(array, x_indices, y_indices, z_indices):\n",
    "    extracted_elements = array[x_indices, y_indices, z_indices]\n",
    "    return extracted_elements\n",
    "\n",
    "array = np.array([\n",
    "    [[10, 20, 30], [40, 50, 60], [70, 80, 90]],\n",
    "    [[15, 25, 35], [45, 55, 65], [75, 85, 95]],\n",
    "    [[19, 29, 39], [49, 59, 69], [79, 89, 99]]\n",
    "]) \n",
    "x_indices = np.array([0, 1, 2])  \n",
    "y_indices = np.array([1, 2, 0])  \n",
    "z_indices = np.array([2, 1, 0]) \n",
    "\n",
    "extract_elements_3d(array, x_indices, y_indices, z_indices)"
   ]
  },
  {
   "cell_type": "code",
   "execution_count": 176,
   "id": "c840615a-72c7-4c59-9412-7ce5fb61f64f",
   "metadata": {},
   "outputs": [
    {
     "data": {
      "text/plain": [
       "array([4, 5, 6, 7])"
      ]
     },
     "execution_count": 176,
     "metadata": {},
     "output_type": "execute_result"
    }
   ],
   "source": [
    "#34.Write a NumPy function that returns elements from an array where both two conditions are satisfied using boolean indexing.\n",
    "def extract_filtered_elements(array, condition1, condition2):\n",
    "    filtered_elements = array[(array > condition1) & (array < condition2)] \n",
    "    return filtered_elements\n",
    "\n",
    "array = np.array([1,2,3,4,5,6,7,8])\n",
    "condition1 = 3\n",
    "condition2 = 8\n",
    "extract_filtered_elements(array, condition1, condition2)"
   ]
  },
  {
   "cell_type": "code",
   "execution_count": 178,
   "id": "7dd72b25-d1cb-4c35-a34e-0ff140bbb901",
   "metadata": {},
   "outputs": [
    {
     "data": {
      "text/plain": [
       "array([3, 5, 7])"
      ]
     },
     "execution_count": 178,
     "metadata": {},
     "output_type": "execute_result"
    }
   ],
   "source": [
    "#35.Create a NumPy function that extracts elements from a 2D array using row and column indices provided in separate arrays.\n",
    "def extract_elements_2d(array, x_indices, y_indices):\n",
    "    filtered_elements = array[x_indices, y_indices] \n",
    "    return filtered_elements\n",
    "\n",
    "array = np.array([[1,2,3],[4,5,6],[7,8,9]])\n",
    "x_indices = np.array([0,1,2])\n",
    "y_indices = np.array([2,1,0])\n",
    "extract_elements_2d(array, x_indices, y_indices)"
   ]
  },
  {
   "cell_type": "code",
   "execution_count": 180,
   "id": "4d334071-932f-4d5a-a2d3-bf7aac3ae028",
   "metadata": {},
   "outputs": [
    {
     "data": {
      "text/plain": [
       "array([[ 9,  7, 13],\n",
       "       [ 9, 14, 14],\n",
       "       [14, 11,  8]])"
      ]
     },
     "execution_count": 180,
     "metadata": {},
     "output_type": "execute_result"
    }
   ],
   "source": [
    "#36.Given an array arr of shape (3, 3), add a scalar value of 5 to each element using NumPy broadcasting.\n",
    "import random\n",
    "arr = np.random.randint(1,10, size =(3,3))\n",
    "arr+5"
   ]
  },
  {
   "cell_type": "code",
   "execution_count": 182,
   "id": "4e327180-ece0-44fb-a13d-c1c38762fd10",
   "metadata": {},
   "outputs": [
    {
     "data": {
      "text/plain": [
       "array([[9, 7, 3, 6],\n",
       "       [9, 7, 6, 4],\n",
       "       [9, 2, 1, 4]])"
      ]
     },
     "execution_count": 182,
     "metadata": {},
     "output_type": "execute_result"
    }
   ],
   "source": [
    "#37.Consider two arrays arr1 of shape (1, 3) and arr2 of shape (3, 4). Multiply each row of arr2 by the corresponding element in arr1 using NumPy broadcasting.\n",
    "arr1 = np.random.randint(1,10, size =(1,3))\n",
    "arr2 = np.random.randint(1,10, size =(3,4))\n",
    "arr2 * arr1[0][1]"
   ]
  },
  {
   "cell_type": "code",
   "execution_count": 184,
   "id": "55e63212-d2fd-44ab-9569-642621b1fbed",
   "metadata": {},
   "outputs": [
    {
     "data": {
      "text/plain": [
       "array([[ 8,  9,  6,  8],\n",
       "       [ 7,  4,  7,  8],\n",
       "       [11,  5,  7, 13]])"
      ]
     },
     "execution_count": 184,
     "metadata": {},
     "output_type": "execute_result"
    }
   ],
   "source": [
    "#38.Given a 1D array arr1 of shape (1, 4) and a 2D array arr2 of shape (4, 3), add arr1 to each row of arr2 using NumPy broadcasting.\n",
    "arr1 = np.random.randint(1,10, size =(1,4))\n",
    "arr2 = np.random.randint(1,10, size =(4,3))\n",
    "new_arr2 = arr2.T\n",
    "new_arr2+arr1"
   ]
  },
  {
   "cell_type": "code",
   "execution_count": 186,
   "id": "6f5425db-11a1-4abf-ae50-d6ac3d9e2e46",
   "metadata": {},
   "outputs": [
    {
     "data": {
      "text/plain": [
       "array([[12],\n",
       "       [14],\n",
       "       [ 8]])"
      ]
     },
     "execution_count": 186,
     "metadata": {},
     "output_type": "execute_result"
    }
   ],
   "source": [
    "#39.Consider two arrays arr1 of shape (3, 1) and arr2 of shape (1, 3). Add these arrays using NumPy broadcasting.\n",
    "arr1 = np.random.randint(1,10, size =(3,1))\n",
    "arr2 = np.random.randint(1,10, size =(1,3))\n",
    "new_arr2 = arr2.T\n",
    "arr1+new_arr2"
   ]
  },
  {
   "cell_type": "code",
   "execution_count": 188,
   "id": "3d3f5937-2ea1-45da-995b-5e64487d8012",
   "metadata": {},
   "outputs": [
    {
     "ename": "ValueError",
     "evalue": "operands could not be broadcast together with shapes (2,3) (2,1,2) ",
     "output_type": "error",
     "traceback": [
      "\u001b[1;31m---------------------------------------------------------------------------\u001b[0m",
      "\u001b[1;31mValueError\u001b[0m                                Traceback (most recent call last)",
      "Cell \u001b[1;32mIn[188], line 5\u001b[0m\n\u001b[0;32m      3\u001b[0m arr2 \u001b[38;5;241m=\u001b[39m np\u001b[38;5;241m.\u001b[39mrandom\u001b[38;5;241m.\u001b[39mrandint(\u001b[38;5;241m1\u001b[39m,\u001b[38;5;241m10\u001b[39m, size \u001b[38;5;241m=\u001b[39m(\u001b[38;5;241m2\u001b[39m,\u001b[38;5;241m2\u001b[39m))\n\u001b[0;32m      4\u001b[0m arr2_expanded \u001b[38;5;241m=\u001b[39m arr2[:, np\u001b[38;5;241m.\u001b[39mnewaxis, :]\n\u001b[1;32m----> 5\u001b[0m arr1 \u001b[38;5;241m*\u001b[39m arr2_expanded\n",
      "\u001b[1;31mValueError\u001b[0m: operands could not be broadcast together with shapes (2,3) (2,1,2) "
     ]
    }
   ],
   "source": [
    "#40.Given arrays arr1 of shape (2, 3) and arr2 of shape (2, 2), perform multiplication using NumPy broadcasting. Handle the shape incompatibility.\n",
    "arr1 = np.random.randint(1,10, size =(2,3))\n",
    "arr2 = np.random.randint(1,10, size =(2,2))\n",
    "arr2_expanded = arr2[:, np.newaxis, :]\n",
    "arr1 * arr2_expanded"
   ]
  },
  {
   "cell_type": "code",
   "execution_count": 61,
   "id": "3acec98b-ffa4-40df-a42a-4e69f3b617c2",
   "metadata": {},
   "outputs": [
    {
     "data": {
      "text/plain": [
       "array([2.5, 3.5, 4.5])"
      ]
     },
     "execution_count": 61,
     "metadata": {},
     "output_type": "execute_result"
    }
   ],
   "source": [
    "#41.Calculate column-wise mean for the given array: \n",
    "arr = np.array([[1, 2, 3], [4, 5, 6]])\n",
    "np.mean(arr, axis=0)"
   ]
  },
  {
   "cell_type": "code",
   "execution_count": 58,
   "id": "01b0296e-c29a-48ad-98fa-84e1f77f8791",
   "metadata": {},
   "outputs": [
    {
     "data": {
      "text/plain": [
       "array([3, 6])"
      ]
     },
     "execution_count": 58,
     "metadata": {},
     "output_type": "execute_result"
    }
   ],
   "source": [
    "#42.Find maximum value in each row of the given array:\n",
    "arr = np.array([[1, 2, 3], [4, 5, 6]])\n",
    "np.max(arr, axis=1)"
   ]
  },
  {
   "cell_type": "code",
   "execution_count": 63,
   "id": "c698449a-0147-4a00-9c1b-577bd8523a02",
   "metadata": {},
   "outputs": [
    {
     "data": {
      "text/plain": [
       "array([4, 5, 6])"
      ]
     },
     "execution_count": 63,
     "metadata": {},
     "output_type": "execute_result"
    }
   ],
   "source": [
    "#43.For the given array, find indices of maximum value in each column.\n",
    "arr = np.array([[1, 2, 3], [4, 5, 6]])\n",
    "np.max(arr, axis=0)"
   ]
  },
  {
   "cell_type": "code",
   "execution_count": 65,
   "id": "78b04026-1a7e-42d6-9572-fba9403eeadb",
   "metadata": {},
   "outputs": [
    {
     "data": {
      "text/plain": [
       "array([ 6, 15])"
      ]
     },
     "execution_count": 65,
     "metadata": {},
     "output_type": "execute_result"
    }
   ],
   "source": [
    "#44.For the given array, apply custom function to calculate moving sum along rows. \n",
    "arr = np.array([[1, 2, 3], [4, 5, 6]])\n",
    "np.sum(arr, axis=1)"
   ]
  },
  {
   "cell_type": "code",
   "execution_count": 69,
   "id": "fc68aeb5-a761-4f62-ab54-9056c9344171",
   "metadata": {},
   "outputs": [
    {
     "data": {
      "text/plain": [
       "array([False, False, False])"
      ]
     },
     "execution_count": 69,
     "metadata": {},
     "output_type": "execute_result"
    }
   ],
   "source": [
    "#45.In the given array, check if all elements in each column are even. \n",
    "arr = np.array([[2, 4, 6], [3, 5, 7]])\n",
    "np.all(arr % 2 == 0, axis=0)"
   ]
  },
  {
   "cell_type": "code",
   "execution_count": 190,
   "id": "66ba71c8-cc72-493a-89e5-2c7e8adfda12",
   "metadata": {},
   "outputs": [
    {
     "data": {
      "text/plain": [
       "array([[1, 2, 3],\n",
       "       [4, 5, 6]])"
      ]
     },
     "execution_count": 190,
     "metadata": {},
     "output_type": "execute_result"
    }
   ],
   "source": [
    "#46.Given a NumPy array arr, reshape it into a matrix of dimensions `m` rows and `n` columns. Return the reshaped matrix. \n",
    "original_array = np.array([1, 2, 3, 4, 5, 6])\n",
    "original_array.reshape(2,3)"
   ]
  },
  {
   "cell_type": "code",
   "execution_count": 192,
   "id": "6ebba76e-8ebd-4746-a5a5-1f417261cef4",
   "metadata": {},
   "outputs": [
    {
     "data": {
      "text/plain": [
       "array([1, 2, 3, 4, 5, 6])"
      ]
     },
     "execution_count": 192,
     "metadata": {},
     "output_type": "execute_result"
    }
   ],
   "source": [
    "#47.Create a function that takes a matrix as input and returns the flattened array. \n",
    "input_matrix = np.array([[1, 2, 3], [4, 5, 6]])\n",
    "def matrix_array(input_matrix):\n",
    "    return input_matrix.flatten()\n",
    "input_matrix = np.array([[1, 2, 3], [4, 5, 6]])\n",
    "matrix_array(input_matrix)"
   ]
  },
  {
   "cell_type": "code",
   "execution_count": 194,
   "id": "e9dc4be8-8339-45be-8796-9abc7902bd6c",
   "metadata": {},
   "outputs": [
    {
     "data": {
      "text/plain": [
       "array([[[1, 2, 3],\n",
       "        [4, 5, 6],\n",
       "        [7, 8, 9]]])"
      ]
     },
     "execution_count": 194,
     "metadata": {},
     "output_type": "execute_result"
    }
   ],
   "source": [
    "#48.Write a function that concatenates two given arrays along a specified axis.\n",
    "array1 = np.array([[1, 2], [3, 4]]) \n",
    "array2 = np.array([[5, 6], [7, 8]])\n",
    "np.concatenate((array1,array2) , axis = 0)\n",
    "np.concatenate((array1,array2) , axis = 1)\n",
    "original_array = np.array([[1, 2, 3], [4, 5, 6], [7, 8, 9]])\n",
    "np.expand_dims(original_array, axis = 1)\n",
    "np.expand_dims(original_array, axis = 0)"
   ]
  },
  {
   "cell_type": "code",
   "execution_count": 196,
   "id": "6b86fd89-a6d1-48e0-b84f-d0b290ef1a9c",
   "metadata": {},
   "outputs": [
    {
     "data": {
      "text/plain": [
       "[array([[1],\n",
       "        [4],\n",
       "        [7]]),\n",
       " array([[2],\n",
       "        [5],\n",
       "        [8]]),\n",
       " array([[3],\n",
       "        [6],\n",
       "        [9]])]"
      ]
     },
     "execution_count": 196,
     "metadata": {},
     "output_type": "execute_result"
    }
   ],
   "source": [
    "#49.Create a function that splits an array into multiple sub-arrays along a specified axis. original_array = np.array([[1, 2, 3], [4, 5, 6], [7, 8, 9]])\n",
    "def split_array(array, num_splits, axis=0):\n",
    "    return np.array_split(array, num_splits, axis=axis)\n",
    "\n",
    "original_array = np.array([[1, 2, 3],\n",
    "                           [4, 5, 6],\n",
    "                           [7, 8, 9]])\n",
    "\n",
    "split_array(original_array, num_splits=3, axis=0)\n",
    "split_array(original_array, num_splits=3, axis=1)"
   ]
  },
  {
   "cell_type": "code",
   "execution_count": 198,
   "id": "9d783d4d-4164-4dc5-a3b4-c4e41ae84126",
   "metadata": {},
   "outputs": [
    {
     "data": {
      "text/plain": [
       "array([ 1, 10,  4, 11,  5])"
      ]
     },
     "execution_count": 198,
     "metadata": {},
     "output_type": "execute_result"
    }
   ],
   "source": [
    "#50.Write a function that inserts and then deletes elements from a given array at specified indices. original_array = np.array([1, 2, 3, 4, 5])\n",
    "#indices_to_insert = [2, 4]\n",
    "#values_to_insert = [10, 11]\n",
    "#indices_to_delete = [1, 3]\n",
    "def insert_del_array(arr, insert_indices,insert_values,del_indices):\n",
    "    arr = np.insert(arr, insert_indices, insert_values)\n",
    "    arr = np.delete(arr, del_indices)\n",
    "    return arr\n",
    "\n",
    "arr = np.array([1, 2, 3, 4, 5])\n",
    "insert_indices = [2, 4]\n",
    "insert_values = [10, 11]\n",
    "del_indices = [1, 3]\n",
    "insert_del_array(arr, insert_indices,insert_values,del_indices)"
   ]
  },
  {
   "cell_type": "code",
   "execution_count": 200,
   "id": "6ae21d6a-00e7-4e53-bc1e-59a16bd8ad3d",
   "metadata": {},
   "outputs": [
    {
     "data": {
      "text/plain": [
       "array([[ 2,  7,  4,  7,  8, 10, 15, 17, 14, 15]])"
      ]
     },
     "execution_count": 200,
     "metadata": {},
     "output_type": "execute_result"
    }
   ],
   "source": [
    "#51.Create a NumPy array `arr1` with random integers and another array `arr2` with integers from 1 to 10. \n",
    "#Perform element-wise addition between `arr1` and `arr2`.\n",
    "arr1 = np.random.randint(0,10 , size = (1,10))\n",
    "arr2 = np.arange(1,11)\n",
    "arr2+arr1"
   ]
  },
  {
   "cell_type": "code",
   "execution_count": 202,
   "id": "b75eaf8a-ba28-4759-8511-72fb191ac0e8",
   "metadata": {},
   "outputs": [
    {
     "data": {
      "text/plain": [
       "array([-9, -7, -5, -3, -1,  1,  3,  5,  7,  9])"
      ]
     },
     "execution_count": 202,
     "metadata": {},
     "output_type": "execute_result"
    }
   ],
   "source": [
    "#52.Generate a NumPy array `arr1` with sequential integers from 10 to 1 and another array `arr2` with integers from 1 to 10. \n",
    "#Subtract `arr2` from `arr1` element-wise.\n",
    "arr1 = np.arange(10,0,-1)\n",
    "aar2 = np.arange(1,11)\n",
    "arr2-arr1"
   ]
  },
  {
   "cell_type": "code",
   "execution_count": 204,
   "id": "81d5ac9f-4a81-4b7b-a798-2d5332cea6ec",
   "metadata": {},
   "outputs": [
    {
     "data": {
      "text/plain": [
       "array([[ 3,  4, 12,  0, 35]])"
      ]
     },
     "execution_count": 204,
     "metadata": {},
     "output_type": "execute_result"
    }
   ],
   "source": [
    "#53.Create a NumPy array `arr1` with random integers and another array `arr2` with integers from 1 to 5. Perform element-wise multiplication between `arr1` and `arr2`.\n",
    "arr1 = np.random.randint(0,10, size = (1,5))\n",
    "arr2 = np.arange(1,6)\n",
    "arr1*arr2"
   ]
  },
  {
   "cell_type": "code",
   "execution_count": 206,
   "id": "ebe406d8-78c0-4313-b8b7-842fb8412717",
   "metadata": {},
   "outputs": [
    {
     "data": {
      "text/plain": [
       "array([2., 2., 2., 2., 2.])"
      ]
     },
     "execution_count": 206,
     "metadata": {},
     "output_type": "execute_result"
    }
   ],
   "source": [
    "#54.Generate a NumPy array `arr1` with even integers from 2 to 10 and another array `arr2` with integers from 1 to 5. \n",
    "#Perform element-wise division of `arr1` by `arr2`.\n",
    "arr1 = np.arange(2,11,2)\n",
    "arr2 = np.arange(1,6)\n",
    "arr1/arr2"
   ]
  },
  {
   "cell_type": "code",
   "execution_count": 208,
   "id": "77259b67-903c-4af0-9a8a-bff8320a2f7c",
   "metadata": {},
   "outputs": [
    {
     "data": {
      "text/plain": [
       "array([ 1, 16, 27, 16,  5])"
      ]
     },
     "execution_count": 208,
     "metadata": {},
     "output_type": "execute_result"
    }
   ],
   "source": [
    "#55.Create a NumPy array `arr1` with integers from 1 to 5 and another array `arr2` with the same numbers reversed. \n",
    "#Calculate the exponentiation of `arr1` raised to the power of `arr2` element-wise.\n",
    "arr1 = np.arange(1,6)\n",
    "arr2 = arr1[::-1]\n",
    "np.power(arr1,arr2)"
   ]
  },
  {
   "cell_type": "code",
   "execution_count": 210,
   "id": "faec7b37-3fb3-4174-bf79-8699fce18d45",
   "metadata": {},
   "outputs": [
    {
     "data": {
      "text/plain": [
       "3"
      ]
     },
     "execution_count": 210,
     "metadata": {},
     "output_type": "execute_result"
    }
   ],
   "source": [
    "#56.Write a function that counts the occurrences of a specific substring within a NumPy array of strings. \n",
    "arr = np.array(['hello', 'world', 'hello', 'numpy', 'hello'])\n",
    "\n",
    "def count_substring_occurrences(arr, substring):\n",
    "    count = np.char.count(arr, substring).sum()\n",
    "    return count       \n",
    "\n",
    "arr = np.array(['hello', 'world', 'hello', 'numpy', 'hello'])\n",
    "substring = ['hello']\n",
    "count_substring_occurrences(arr, substring)"
   ]
  },
  {
   "cell_type": "code",
   "execution_count": 212,
   "id": "07e5a6eb-e327-4d03-bcb0-40b5ad810c46",
   "metadata": {},
   "outputs": [
    {
     "data": {
      "text/plain": [
       "array(['H', 'W', 'OAI', 'GPT'], dtype='<U3')"
      ]
     },
     "execution_count": 212,
     "metadata": {},
     "output_type": "execute_result"
    }
   ],
   "source": [
    "#57.Write a function that extracts uppercase characters from a NumPy array of strings. \n",
    "arr = np.array(['Hello', 'World', 'OpenAI', 'GPT']) \n",
    "\n",
    "def extract_uppercase(arr):\n",
    "    uppercase_chars = np.array([''.join([char for char in word if char.isupper()]) for word in arr])\n",
    "    return uppercase_chars\n",
    "\n",
    "arr = np.array(['Hello', 'World', 'OpenAI', 'GPT']) \n",
    "extract_uppercase(arr)"
   ]
  },
  {
   "cell_type": "code",
   "execution_count": 214,
   "id": "43044030-8024-4b5d-a4be-8395508b6bc8",
   "metadata": {},
   "outputs": [
    {
     "data": {
      "text/plain": [
       "array(['orange', 'banana', 'grape', 'pineorange'], dtype='<U10')"
      ]
     },
     "execution_count": 214,
     "metadata": {},
     "output_type": "execute_result"
    }
   ],
   "source": [
    "#58.Write a function that replaces occurrences of a substring in a NumPy array of strings with a new string. \n",
    "arr = np.array(['apple', 'banana', 'grape', 'pineapple'])\n",
    "\n",
    "def replace_substring(arr, old_substring, new_substring):\n",
    "    replaced_arr = np.char.replace(arr, old_substring, new_substring)\n",
    "    return replaced_arr\n",
    "\n",
    "arr = np.array(['apple', 'banana', 'grape', 'pineapple'])\n",
    "old_substring = ['apple']\n",
    "new_substring = ['orange']\n",
    "replace_substring(arr, old_substring, new_substring)"
   ]
  },
  {
   "cell_type": "code",
   "execution_count": 216,
   "id": "35427b4d-0898-4f79-8781-695b3672bfa0",
   "metadata": {},
   "outputs": [
    {
     "data": {
      "text/plain": [
       "array(['Hello', 'World', 'Open', 'AI'], dtype='<U5')"
      ]
     },
     "execution_count": 216,
     "metadata": {},
     "output_type": "execute_result"
    }
   ],
   "source": [
    "#59.Write a function that concatenates strings in a NumPy array element-wise. \n",
    "arr1 = np.array(['Hello', 'World'])\n",
    "arr2 = np.array(['Open', 'AI'])\n",
    "\n",
    "def concatenate_array(arr1,arr2):\n",
    "    arr3 = np.concatenate((arr1,arr2))\n",
    "    return arr3\n",
    "concatenate_array(arr1,arr2)"
   ]
  },
  {
   "cell_type": "code",
   "execution_count": 218,
   "id": "41848fe6-8bd5-4e1a-baf8-4e527daf1305",
   "metadata": {},
   "outputs": [
    {
     "data": {
      "text/plain": [
       "9"
      ]
     },
     "execution_count": 218,
     "metadata": {},
     "output_type": "execute_result"
    }
   ],
   "source": [
    "#60.Write a function that finds the length of the longest string in a NumPy array.\n",
    "arr = np.array(['apple', 'banana', 'grape', 'pineapple'])\n",
    "\n",
    "def find_longest_string_length(arr):\n",
    "    lengths = np.vectorize(len)(arr)\n",
    "    max_length = lengths.max()\n",
    "    return max_length\n",
    "arr = np.array(['apple', 'banana', 'grape', 'pineapple']) \n",
    "find_longest_string_length(arr)"
   ]
  },
  {
   "cell_type": "code",
   "execution_count": 220,
   "id": "32fc1b22-a980-47cd-b3f1-2ec1974368e3",
   "metadata": {},
   "outputs": [
    {
     "data": {
      "text/plain": [
       "78732.41"
      ]
     },
     "execution_count": 220,
     "metadata": {},
     "output_type": "execute_result"
    }
   ],
   "source": [
    "#61.Create a dataset of 100 random integers between 1 and 1000. Compute the mean, median, variance, and standard deviation of the dataset using NumPy's functions.\n",
    "arr = np.random.randint(1,1001 , size = (1,100))\n",
    "np.mean(arr)\n",
    "np.median(arr)\n",
    "np.std(arr)\n",
    "np.var(arr)"
   ]
  },
  {
   "cell_type": "code",
   "execution_count": 222,
   "id": "e3b8f63a-3c76-4c8a-b824-492fc1e60e3e",
   "metadata": {},
   "outputs": [
    {
     "data": {
      "text/plain": [
       "76.25"
      ]
     },
     "execution_count": 222,
     "metadata": {},
     "output_type": "execute_result"
    }
   ],
   "source": [
    "#62.Generate an array of 50 random numbers between 1 and 100. Find the 25th and 75th percentiles of the dataset.\n",
    "arr = np.random.randint(1,101 , size = (1,50))\n",
    "arr_new = np.sort(arr) \n",
    "np.percentile(arr, 25) #25th percentile\n",
    "np.percentile(arr,75) #75th percentile"
   ]
  },
  {
   "cell_type": "code",
   "execution_count": 224,
   "id": "32f7d8d5-061c-4cb6-98c1-75e322c584db",
   "metadata": {},
   "outputs": [
    {
     "data": {
      "text/plain": [
       "array([[ 1.,  1., -1.,  1.],\n",
       "       [ 1.,  1., -1.,  1.],\n",
       "       [-1., -1.,  1., -1.],\n",
       "       [ 1.,  1., -1.,  1.]])"
      ]
     },
     "execution_count": 224,
     "metadata": {},
     "output_type": "execute_result"
    }
   ],
   "source": [
    "#63.Create two arrays representing two sets of variables. Compute the correlation coefficient between these arrays using NumPy's `corrcoef` function.\n",
    "arr1 = np.random.randint(1,10 ,size = (2,2))\n",
    "arr2 = np.random.randint(1,10 ,size = (2,2))\n",
    "np.corrcoef(arr1,arr2)"
   ]
  },
  {
   "cell_type": "code",
   "execution_count": 226,
   "id": "7e8e20d5-ed5c-4a2e-bceb-d3037a85b51d",
   "metadata": {},
   "outputs": [
    {
     "data": {
      "text/plain": [
       "array([[ 56,  59,  48],\n",
       "       [104,  86,  86],\n",
       "       [ 74,  64,  66]])"
      ]
     },
     "execution_count": 226,
     "metadata": {},
     "output_type": "execute_result"
    }
   ],
   "source": [
    "#64.Create two matrices and perform matrix multiplication using NumPy's `dot` function.\n",
    "arr1 = np.random.randint(1,10, size = (3,3))\n",
    "arr2 = np.random.randint(1,10, size = (3,3))\n",
    "arr1.dot(arr2)"
   ]
  },
  {
   "cell_type": "code",
   "execution_count": 230,
   "id": "eeac1f31-e63c-4636-ac14-57b1020088fc",
   "metadata": {},
   "outputs": [
    {
     "data": {
      "text/plain": [
       "6435.0"
      ]
     },
     "execution_count": 230,
     "metadata": {},
     "output_type": "execute_result"
    }
   ],
   "source": [
    "#65.Create an array of 50 integers between 10 and 1000. Calculate the 10th, 50th (median), and 90th percentiles along with the first and third quartiles.\n",
    "arr = np.random.randint(10,10001, size = (1,50))\n",
    "arr_nw = np.sort(arr)\n",
    "np.percentile(arr_nw ,10)\n",
    "np.percentile(arr_nw ,50)\n",
    "np.percentile(arr_nw ,90)\n",
    "np.percentile(arr_nw , 25)\n",
    "np.percentile(arr_nw , 75)"
   ]
  },
  {
   "cell_type": "code",
   "execution_count": 232,
   "id": "9fb0c37a-8d08-4cce-841a-5f356def4c5e",
   "metadata": {},
   "outputs": [
    {
     "data": {
      "text/plain": [
       "(array([1], dtype=int64),)"
      ]
     },
     "execution_count": 232,
     "metadata": {},
     "output_type": "execute_result"
    }
   ],
   "source": [
    "#66.Create a NumPy array of integers and find the index of a specific element.\n",
    "arr = np.array([1,2,3,4,5])\n",
    "np.where(arr == 2)"
   ]
  },
  {
   "cell_type": "code",
   "execution_count": 238,
   "id": "2d6aacdd-f035-4527-9c4a-0ff188bab9ec",
   "metadata": {},
   "outputs": [
    {
     "data": {
      "text/plain": [
       "array([[1, 3, 3, 4, 6, 6, 6, 7, 7, 9]])"
      ]
     },
     "execution_count": 238,
     "metadata": {},
     "output_type": "execute_result"
    }
   ],
   "source": [
    "#67.Generate a random NumPy array and sort it in ascending order.\n",
    "arr = np.random.randint(1,10, size = (1,10))\n",
    "np.sort(arr)"
   ]
  },
  {
   "cell_type": "code",
   "execution_count": 240,
   "id": "0828f6a7-71ae-45e5-979e-e9a409c710c5",
   "metadata": {},
   "outputs": [
    {
     "data": {
      "text/plain": [
       "array([25, 42, 30])"
      ]
     },
     "execution_count": 240,
     "metadata": {},
     "output_type": "execute_result"
    }
   ],
   "source": [
    "#68.Filter elements >20  in the given NumPy array. \n",
    "arr = np.array([12, 25, 6, 42, 8, 30])\n",
    "arr[arr > 20]"
   ]
  },
  {
   "cell_type": "code",
   "execution_count": 242,
   "id": "b8171ad6-b471-4a74-be57-6d01bb2a96a9",
   "metadata": {},
   "outputs": [
    {
     "data": {
      "text/plain": [
       "array([12, 15])"
      ]
     },
     "execution_count": 242,
     "metadata": {},
     "output_type": "execute_result"
    }
   ],
   "source": [
    "#69.Filter elements which are divisible by 3 from a given NumPy array.\n",
    "arr = np.array([1, 5, 8, 12, 15])\n",
    "arr[arr%3 == 0]"
   ]
  },
  {
   "cell_type": "code",
   "execution_count": 244,
   "id": "cac84d2a-b922-418b-aba7-25e050f2e459",
   "metadata": {},
   "outputs": [
    {
     "data": {
      "text/plain": [
       "array([20, 30, 40])"
      ]
     },
     "execution_count": 244,
     "metadata": {},
     "output_type": "execute_result"
    }
   ],
   "source": [
    "#70.Filter elements which are ≥ 20 and ≤ 40 from a given NumPy array. \n",
    "arr = np.array([10, 20, 30, 40, 50])\n",
    "arr[(arr >= 20) & (arr <= 40)]"
   ]
  },
  {
   "cell_type": "code",
   "execution_count": 246,
   "id": "3ed4c6f9-7e70-4794-8413-8ac401f2c131",
   "metadata": {},
   "outputs": [
    {
     "data": {
      "text/plain": [
       "'='"
      ]
     },
     "execution_count": 246,
     "metadata": {},
     "output_type": "execute_result"
    }
   ],
   "source": [
    "#71.For the given NumPy array, check its byte order using the `dtype` attribute byteorder.\n",
    "arr = np.array([1, 2, 3])\n",
    "arr.dtype.byteorder"
   ]
  },
  {
   "cell_type": "code",
   "execution_count": 248,
   "id": "0322a3fd-e4da-45db-a1c9-d22f39879041",
   "metadata": {},
   "outputs": [
    {
     "data": {
      "text/plain": [
       "array([16777216, 33554432, 50331648])"
      ]
     },
     "execution_count": 248,
     "metadata": {},
     "output_type": "execute_result"
    }
   ],
   "source": [
    "#72.For the given NumPy array, perform byte swapping in place using `byteswap()`. \n",
    "arr = np.array([1, 2, 3], dtype=np.int32)\n",
    "arr.byteswap()"
   ]
  },
  {
   "cell_type": "code",
   "execution_count": 250,
   "id": "16882ff8-c305-4192-869b-5699bb57b907",
   "metadata": {},
   "outputs": [
    {
     "data": {
      "text/plain": [
       "array([16777216, 33554432, 50331648], dtype='>i4')"
      ]
     },
     "execution_count": 250,
     "metadata": {},
     "output_type": "execute_result"
    }
   ],
   "source": [
    "#73.For the given NumPy array, swap its byte order without modifying the original array using `newbyteorder()`. \n",
    "arr = np.array([1, 2, 3], dtype=np.int32)\n",
    "arr.newbyteorder()"
   ]
  },
  {
   "cell_type": "code",
   "execution_count": 256,
   "id": "06848011-34ea-41be-bddc-9d72322e92ca",
   "metadata": {},
   "outputs": [
    {
     "data": {
      "text/plain": [
       "array([16777216, 33554432, 50331648], dtype='>i4')"
      ]
     },
     "execution_count": 256,
     "metadata": {},
     "output_type": "execute_result"
    }
   ],
   "source": [
    "#74.For the given NumPy array and swap its byte order conditionally based on system endianness using `newbyteorder()`. \n",
    "arr = np.array([1, 2, 3], dtype=np.int32)\n",
    "arr.dtype.byteorder\n",
    "arr.newbyteorder()"
   ]
  },
  {
   "cell_type": "code",
   "execution_count": 254,
   "id": "73c295de-6c4d-40aa-bed0-44d1fdb7ca9d",
   "metadata": {},
   "outputs": [
    {
     "data": {
      "text/plain": [
       "'='"
      ]
     },
     "execution_count": 254,
     "metadata": {},
     "output_type": "execute_result"
    }
   ],
   "source": [
    "#75.For the given NumPy array, check if byte swapping is necessary for the current system using `dtype` attribute `byteorder`. \n",
    "arr = np.array([1, 2, 3], dtype=np.int32)\n",
    "arr.dtype.byteorder"
   ]
  },
  {
   "cell_type": "code",
   "execution_count": 258,
   "id": "c6ea8a36-69df-4780-a4b0-6f66fa11cdb2",
   "metadata": {},
   "outputs": [],
   "source": [
    "#76.Create a NumPy array `arr1` with values from 1 to 10. Create a copy of `arr1` named `copy_arr` and modify an element in `copy_arr`. \n",
    "#Check if modifying `copy_arr` affects `arr1`.\n",
    "arr1 = np.arange(1,11)\n",
    "copy_arr = arr1"
   ]
  },
  {
   "cell_type": "code",
   "execution_count": 260,
   "id": "16374107-eaa0-481c-8097-aa2e7aec470b",
   "metadata": {},
   "outputs": [
    {
     "data": {
      "text/plain": [
       "array([ 1,  2,  3,  4,  5,  6,  7,  8,  9, 10])"
      ]
     },
     "execution_count": 260,
     "metadata": {},
     "output_type": "execute_result"
    }
   ],
   "source": [
    "copy_arr"
   ]
  },
  {
   "cell_type": "code",
   "execution_count": 262,
   "id": "6b3d460e-749b-43ce-bd54-a8e5e2a6faf6",
   "metadata": {},
   "outputs": [
    {
     "data": {
      "text/plain": [
       "1"
      ]
     },
     "execution_count": 262,
     "metadata": {},
     "output_type": "execute_result"
    }
   ],
   "source": [
    "copy_arr[0]"
   ]
  },
  {
   "cell_type": "code",
   "execution_count": 264,
   "id": "89fc42ca-4895-454b-b9ea-1171a2ed699d",
   "metadata": {},
   "outputs": [],
   "source": [
    "copy_arr[2] = 5"
   ]
  },
  {
   "cell_type": "code",
   "execution_count": 266,
   "id": "2abcc29c-8ebe-4056-be10-284f9efa7d28",
   "metadata": {},
   "outputs": [
    {
     "data": {
      "text/plain": [
       "array([ 1,  2,  5,  4,  5,  6,  7,  8,  9, 10])"
      ]
     },
     "execution_count": 266,
     "metadata": {},
     "output_type": "execute_result"
    }
   ],
   "source": [
    "copy_arr"
   ]
  },
  {
   "cell_type": "code",
   "execution_count": 268,
   "id": "6f8e8f57-ffd2-4def-9c40-c3f1f5d9d11c",
   "metadata": {},
   "outputs": [
    {
     "data": {
      "text/plain": [
       "array([ 1,  2,  5,  4,  5,  6,  7,  8,  9, 10])"
      ]
     },
     "execution_count": 268,
     "metadata": {},
     "output_type": "execute_result"
    }
   ],
   "source": [
    "arr1"
   ]
  },
  {
   "cell_type": "code",
   "execution_count": 272,
   "id": "9cf11c92-c003-4291-94f0-050517634a43",
   "metadata": {},
   "outputs": [
    {
     "data": {
      "text/plain": [
       "array([[ 6, 99,  6],\n",
       "       [ 8,  8,  5],\n",
       "       [ 1,  9,  1]])"
      ]
     },
     "execution_count": 272,
     "metadata": {},
     "output_type": "execute_result"
    }
   ],
   "source": [
    "#77.Create a 2D NumPy array `matrix` of shape (3, 3) with random integers. Extract a slice `view_slice` from the matrix. \n",
    "#Modify an element in `view_slice` and observe if it changes the original `matrix`.\n",
    "arr1 = np.random.randint(1,10 , size =(3,3))\n",
    "view_slice = arr1[0:2 , 1:3]\n",
    "view_slice[0, 0] = 99\n",
    "arr1"
   ]
  },
  {
   "cell_type": "code",
   "execution_count": 274,
   "id": "046b5025-4c3c-46ac-b72f-f5a8dbd3704d",
   "metadata": {},
   "outputs": [
    {
     "data": {
      "text/plain": [
       "array([[ 6, 12,  6],\n",
       "       [12,  9,  9],\n",
       "       [ 9,  4,  3],\n",
       "       [ 2, 11,  5]])"
      ]
     },
     "execution_count": 274,
     "metadata": {},
     "output_type": "execute_result"
    }
   ],
   "source": [
    "#78.Create a NumPy array `array_a` of shape (4, 3) with sequential integers from 1 to 12. Extract a slice `view_b` from `array_a` \n",
    "#and broadcast the addition of 5 to view_b. Check if it alters the original `array_a`.\n",
    "array_a = np.random.randint(1,12 , size = (4,3))\n",
    "view_b = array_a[0:2,0:2]\n",
    "view_b +=5\n",
    "array_a"
   ]
  },
  {
   "cell_type": "code",
   "execution_count": 278,
   "id": "cd175404-c1b5-461f-9f0b-dd55a4ab3251",
   "metadata": {},
   "outputs": [],
   "source": [
    "#79.Create a NumPy array `orig_array` of shape (2, 4) with values from 1 to 8. Create a reshaped view `reshaped_view` of shape (4, 2) from orig_array. \n",
    "#Modify an element in `reshaped_view` and check if it reflects changes in the original `orig_array`.\n",
    "orig_array = np.random.randint(1,8, size = (2,4))\n",
    "reshaped_view = np.reshape(orig_array , (4,2))\n",
    "reshaped_view[2][1] = 9"
   ]
  },
  {
   "cell_type": "code",
   "execution_count": 280,
   "id": "446fd8bd-310b-4fb6-91dd-44d9d077ae75",
   "metadata": {},
   "outputs": [
    {
     "data": {
      "text/plain": [
       "array([[5, 2],\n",
       "       [2, 5],\n",
       "       [4, 9],\n",
       "       [5, 7]])"
      ]
     },
     "execution_count": 280,
     "metadata": {},
     "output_type": "execute_result"
    }
   ],
   "source": [
    "reshaped_view"
   ]
  },
  {
   "cell_type": "code",
   "execution_count": 282,
   "id": "4f9e1000-f242-4afe-bd29-60a8466b7fb6",
   "metadata": {},
   "outputs": [],
   "source": [
    "reshaped_view[2][1] = 9"
   ]
  },
  {
   "cell_type": "code",
   "execution_count": 284,
   "id": "86f864b8-c00d-4106-9065-a81f087c1783",
   "metadata": {},
   "outputs": [
    {
     "data": {
      "text/plain": [
       "array([[5, 2],\n",
       "       [2, 5],\n",
       "       [4, 9],\n",
       "       [5, 7]])"
      ]
     },
     "execution_count": 284,
     "metadata": {},
     "output_type": "execute_result"
    }
   ],
   "source": [
    "reshaped_view"
   ]
  },
  {
   "cell_type": "code",
   "execution_count": 286,
   "id": "36545f98-716d-420b-be0d-fd033d9a6610",
   "metadata": {},
   "outputs": [
    {
     "data": {
      "text/plain": [
       "array([[5, 2, 2, 5],\n",
       "       [4, 9, 5, 7]])"
      ]
     },
     "execution_count": 286,
     "metadata": {},
     "output_type": "execute_result"
    }
   ],
   "source": [
    "orig_array"
   ]
  },
  {
   "cell_type": "code",
   "execution_count": 486,
   "id": "264d2f74-6be8-48d2-9c26-174de3fceb3a",
   "metadata": {},
   "outputs": [],
   "source": [
    "#80.Create a NumPy array `data` of shape (3, 4) with random integers. Extract a copy `data_copy` of elements greater than 5. \n",
    "#Modify an element in `data_copy` and verify if it affects the original `data`.\n",
    "data = np.random.randint(1,10, size = (3,4))"
   ]
  },
  {
   "cell_type": "code",
   "execution_count": 488,
   "id": "56528148-a940-448a-9cf2-8bb866e1be68",
   "metadata": {},
   "outputs": [
    {
     "data": {
      "text/plain": [
       "array([[3, 6, 9, 7],\n",
       "       [5, 7, 5, 2],\n",
       "       [9, 8, 9, 4]])"
      ]
     },
     "execution_count": 488,
     "metadata": {},
     "output_type": "execute_result"
    }
   ],
   "source": [
    "data"
   ]
  },
  {
   "cell_type": "code",
   "execution_count": 490,
   "id": "1aeb4bbd-84a9-4d78-8edb-c3833f7053ff",
   "metadata": {},
   "outputs": [],
   "source": [
    "data_copy = data[data>5]"
   ]
  },
  {
   "cell_type": "code",
   "execution_count": 492,
   "id": "98dcf782-5931-41c9-9435-6698677fb049",
   "metadata": {},
   "outputs": [
    {
     "data": {
      "text/plain": [
       "array([6, 9, 7, 7, 9, 8, 9])"
      ]
     },
     "execution_count": 492,
     "metadata": {},
     "output_type": "execute_result"
    }
   ],
   "source": [
    "data_copy"
   ]
  },
  {
   "cell_type": "code",
   "execution_count": 494,
   "id": "1dfe3796-8b82-4961-b7dd-113f2a78bb57",
   "metadata": {},
   "outputs": [],
   "source": [
    "data_copy[1] = 8"
   ]
  },
  {
   "cell_type": "code",
   "execution_count": 496,
   "id": "e09d4a3b-f5fb-4aee-982b-5a4287032198",
   "metadata": {},
   "outputs": [
    {
     "data": {
      "text/plain": [
       "array([6, 8, 7, 7, 9, 8, 9])"
      ]
     },
     "execution_count": 496,
     "metadata": {},
     "output_type": "execute_result"
    }
   ],
   "source": [
    "data_copy"
   ]
  },
  {
   "cell_type": "code",
   "execution_count": 498,
   "id": "0c99fc0d-3564-4ade-bd17-3f53dae35deb",
   "metadata": {},
   "outputs": [
    {
     "data": {
      "text/plain": [
       "array([[3, 6, 9, 7],\n",
       "       [5, 7, 5, 2],\n",
       "       [9, 8, 9, 4]])"
      ]
     },
     "execution_count": 498,
     "metadata": {},
     "output_type": "execute_result"
    }
   ],
   "source": [
    "data"
   ]
  },
  {
   "cell_type": "code",
   "execution_count": 500,
   "id": "bf68a00a-dbf6-4656-a609-6e3e8ade42f0",
   "metadata": {},
   "outputs": [],
   "source": [
    "#81.Create two matrices A and B of identical shape containing integers and perform addition and subtraction operations between them.\n",
    "arr_A = np.random.randint(1,10, size = (3,3))"
   ]
  },
  {
   "cell_type": "code",
   "execution_count": 502,
   "id": "f37e7c12-c74d-4acb-a16d-9c299c56d05f",
   "metadata": {},
   "outputs": [],
   "source": [
    "arr_B = np.random.randint(1,10, size = (3,3))"
   ]
  },
  {
   "cell_type": "code",
   "execution_count": 504,
   "id": "34940651-2bd3-47d3-8ab4-b317b92252b0",
   "metadata": {},
   "outputs": [
    {
     "data": {
      "text/plain": [
       "array([[5, 7, 4],\n",
       "       [8, 5, 4],\n",
       "       [1, 3, 7]])"
      ]
     },
     "execution_count": 504,
     "metadata": {},
     "output_type": "execute_result"
    }
   ],
   "source": [
    "arr_A"
   ]
  },
  {
   "cell_type": "code",
   "execution_count": 506,
   "id": "3e083084-afa1-4071-9060-7d7f1606fbf5",
   "metadata": {},
   "outputs": [
    {
     "data": {
      "text/plain": [
       "array([[6, 9, 1],\n",
       "       [4, 2, 3],\n",
       "       [6, 9, 5]])"
      ]
     },
     "execution_count": 506,
     "metadata": {},
     "output_type": "execute_result"
    }
   ],
   "source": [
    "arr_B"
   ]
  },
  {
   "cell_type": "code",
   "execution_count": 508,
   "id": "a71e5e9e-0957-442e-81ad-aafc8ab15819",
   "metadata": {},
   "outputs": [
    {
     "data": {
      "text/plain": [
       "array([[11, 16,  5],\n",
       "       [12,  7,  7],\n",
       "       [ 7, 12, 12]])"
      ]
     },
     "execution_count": 508,
     "metadata": {},
     "output_type": "execute_result"
    }
   ],
   "source": [
    "arr_A+arr_B"
   ]
  },
  {
   "cell_type": "code",
   "execution_count": 510,
   "id": "9aec9a52-621e-4f7e-bf2e-04e6960ef1a3",
   "metadata": {},
   "outputs": [
    {
     "data": {
      "text/plain": [
       "array([[-1, -2,  3],\n",
       "       [ 4,  3,  1],\n",
       "       [-5, -6,  2]])"
      ]
     },
     "execution_count": 510,
     "metadata": {},
     "output_type": "execute_result"
    }
   ],
   "source": [
    "arr_A-arr_B"
   ]
  },
  {
   "cell_type": "code",
   "execution_count": 512,
   "id": "2337a532-84db-4a96-a428-894101b1007b",
   "metadata": {},
   "outputs": [],
   "source": [
    "#82.Generate two matrices `C` (3x2) and `D` (2x4) and perform matrix multiplication\n",
    "C = np.random.randint(1,10, size = (3,2))\n",
    "D = np.random.randint(1,10, size = (2,4))"
   ]
  },
  {
   "cell_type": "code",
   "execution_count": 516,
   "id": "d4a1b7ed-4c92-4db9-b4b1-b8c9ff8ae5ca",
   "metadata": {},
   "outputs": [
    {
     "data": {
      "text/plain": [
       "array([[9, 6],\n",
       "       [7, 2],\n",
       "       [7, 3]])"
      ]
     },
     "execution_count": 516,
     "metadata": {},
     "output_type": "execute_result"
    }
   ],
   "source": [
    "C"
   ]
  },
  {
   "cell_type": "code",
   "execution_count": 518,
   "id": "c1f21d3a-c077-46f3-b08c-b9a195756eb3",
   "metadata": {},
   "outputs": [
    {
     "data": {
      "text/plain": [
       "array([[2, 2, 3, 9],\n",
       "       [3, 2, 3, 5]])"
      ]
     },
     "execution_count": 518,
     "metadata": {},
     "output_type": "execute_result"
    }
   ],
   "source": [
    "D"
   ]
  },
  {
   "cell_type": "code",
   "execution_count": 524,
   "id": "da1cbc12-983e-46ac-b622-45d0dbeaef28",
   "metadata": {},
   "outputs": [
    {
     "data": {
      "text/plain": [
       "array([[ 36,  30,  45, 111],\n",
       "       [ 20,  18,  27,  73],\n",
       "       [ 23,  20,  30,  78]])"
      ]
     },
     "execution_count": 524,
     "metadata": {},
     "output_type": "execute_result"
    }
   ],
   "source": [
    "C.dot(D)"
   ]
  },
  {
   "cell_type": "code",
   "execution_count": 526,
   "id": "37350252-733c-4dfd-9fa1-d27cea835a62",
   "metadata": {},
   "outputs": [],
   "source": [
    "#83.Create a matrix `E` and find its transpose. \n",
    "E = np.random.randint(1,10, size = (3,3))"
   ]
  },
  {
   "cell_type": "code",
   "execution_count": 530,
   "id": "cc59769c-35eb-4322-8d1c-903f60c336f8",
   "metadata": {},
   "outputs": [
    {
     "data": {
      "text/plain": [
       "array([[3, 4, 8],\n",
       "       [2, 8, 5],\n",
       "       [2, 4, 9]])"
      ]
     },
     "execution_count": 530,
     "metadata": {},
     "output_type": "execute_result"
    }
   ],
   "source": [
    "E"
   ]
  },
  {
   "cell_type": "code",
   "execution_count": 532,
   "id": "7fe0a290-968a-4364-b5f4-a6884db7931a",
   "metadata": {},
   "outputs": [
    {
     "data": {
      "text/plain": [
       "array([[3, 2, 2],\n",
       "       [4, 8, 4],\n",
       "       [8, 5, 9]])"
      ]
     },
     "execution_count": 532,
     "metadata": {},
     "output_type": "execute_result"
    }
   ],
   "source": [
    "E.T"
   ]
  },
  {
   "cell_type": "code",
   "execution_count": 534,
   "id": "3589e877-07b8-4d1f-ad4c-da9eab4acb23",
   "metadata": {},
   "outputs": [],
   "source": [
    "#84.Generate a square matrix `F` and compute its determinant.\n",
    "F = np.random.randint(1,10, size = (3,3))"
   ]
  },
  {
   "cell_type": "code",
   "execution_count": 536,
   "id": "71fe5df0-664a-45cd-8b82-5ae6dc175d4e",
   "metadata": {},
   "outputs": [
    {
     "data": {
      "text/plain": [
       "array([[8, 7, 9],\n",
       "       [3, 8, 8],\n",
       "       [4, 8, 9]])"
      ]
     },
     "execution_count": 536,
     "metadata": {},
     "output_type": "execute_result"
    }
   ],
   "source": [
    "F"
   ]
  },
  {
   "cell_type": "code",
   "execution_count": 542,
   "id": "09b7d3f0-d300-44f7-82e0-33b5d0b8e647",
   "metadata": {},
   "outputs": [
    {
     "data": {
      "text/plain": [
       "26.99999999999998"
      ]
     },
     "execution_count": 542,
     "metadata": {},
     "output_type": "execute_result"
    }
   ],
   "source": [
    "np.linalg.det(F)"
   ]
  },
  {
   "cell_type": "code",
   "execution_count": 544,
   "id": "c37db9ee-d360-4e56-a874-fb100739920b",
   "metadata": {},
   "outputs": [],
   "source": [
    "#85.Create a square matrix `G` and find its inverse\n",
    "G = np.random.randint(1,10, size = (3,3))"
   ]
  },
  {
   "cell_type": "code",
   "execution_count": 546,
   "id": "7208a7ef-9ffb-4d20-b85c-c6dbae81baa0",
   "metadata": {},
   "outputs": [
    {
     "data": {
      "text/plain": [
       "array([[8, 6, 9],\n",
       "       [3, 4, 2],\n",
       "       [8, 3, 9]])"
      ]
     },
     "execution_count": 546,
     "metadata": {},
     "output_type": "execute_result"
    }
   ],
   "source": [
    "G"
   ]
  },
  {
   "cell_type": "code",
   "execution_count": 548,
   "id": "5bf68ea3-455c-4ee9-91f7-4748af8268de",
   "metadata": {},
   "outputs": [
    {
     "data": {
      "text/plain": [
       "array([[-0.90909091,  0.81818182,  0.72727273],\n",
       "       [ 0.33333333, -0.        , -0.33333333],\n",
       "       [ 0.6969697 , -0.72727273, -0.42424242]])"
      ]
     },
     "execution_count": 548,
     "metadata": {},
     "output_type": "execute_result"
    }
   ],
   "source": [
    "np.linalg.inv(G)"
   ]
  }
 ],
 "metadata": {
  "kernelspec": {
   "display_name": "Python 3 (ipykernel)",
   "language": "python",
   "name": "python3"
  },
  "language_info": {
   "codemirror_mode": {
    "name": "ipython",
    "version": 3
   },
   "file_extension": ".py",
   "mimetype": "text/x-python",
   "name": "python",
   "nbconvert_exporter": "python",
   "pygments_lexer": "ipython3",
   "version": "3.12.4"
  }
 },
 "nbformat": 4,
 "nbformat_minor": 5
}
